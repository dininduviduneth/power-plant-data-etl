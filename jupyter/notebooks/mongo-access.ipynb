{
 "cells": [
  {
   "cell_type": "code",
   "execution_count": 1,
   "id": "a265b29d-089c-41f2-8327-2b62344a73ed",
   "metadata": {},
   "outputs": [],
   "source": [
    "import pymongo\n",
    "import os\n",
    "\n",
    "# Get the MongoDB connection details from environment variables\n",
    "mongo_host = os.environ.get('MONGO_HOST', 'localhost')\n",
    "mongo_port = int(os.environ.get('MONGO_PORT', 27017))\n",
    "mongo_username = os.environ.get('MONGO_USERNAME', 'root')\n",
    "mongo_password = os.environ.get('MONGO_PASSWORD', 'example')\n",
    "mongo_auth_source = os.environ.get('MONGO_AUTH_SOURCE', 'admin')\n",
    "\n",
    "# MongoDB connection string\n",
    "mongo_uri = f'mongodb://{mongo_username}:{mongo_password}@{mongo_host}:{mongo_port}/{mongo_auth_source}'\n",
    "\n",
    "# Connect to MongoDB\n",
    "client = pymongo.MongoClient(mongo_uri)"
   ]
  },
  {
   "cell_type": "code",
   "execution_count": 2,
   "id": "bda3f9ec-552e-4482-ab1d-990ac5ff32ec",
   "metadata": {},
   "outputs": [],
   "source": [
    "db = client.test_database"
   ]
  },
  {
   "cell_type": "code",
   "execution_count": 3,
   "id": "b8ec37f1-fcb2-4d55-a4d1-ab4ab749da6f",
   "metadata": {},
   "outputs": [],
   "source": [
    "collection = db.test_collection"
   ]
  },
  {
   "cell_type": "code",
   "execution_count": 4,
   "id": "d14c3898-cdb4-4940-84b3-1576b1b6cc71",
   "metadata": {},
   "outputs": [],
   "source": [
    "import datetime\n",
    "post = {\n",
    "    \"author\": \"Mike\",\n",
    "    \"text\": \"My first blog post!\",\n",
    "    \"tags\": [\"mongodb\", \"python\", \"pymongo\"],\n",
    "    \"date\": datetime.datetime.now(tz=datetime.timezone.utc),\n",
    "}"
   ]
  },
  {
   "cell_type": "code",
   "execution_count": 5,
   "id": "df0e5852-741f-4f3d-bba2-071464b32878",
   "metadata": {},
   "outputs": [],
   "source": [
    "posts = db.posts"
   ]
  },
  {
   "cell_type": "code",
   "execution_count": 6,
   "id": "152bee33-3610-49a8-9b47-c587a949d20e",
   "metadata": {},
   "outputs": [],
   "source": [
    "post_id = posts.insert_one(post).inserted_id"
   ]
  },
  {
   "cell_type": "code",
   "execution_count": 7,
   "id": "b05044c4-501e-4c07-aa3d-7f06dfb8a63c",
   "metadata": {},
   "outputs": [
    {
     "data": {
      "text/plain": [
       "ObjectId('65a7154917bbfe26517fbcce')"
      ]
     },
     "execution_count": 7,
     "metadata": {},
     "output_type": "execute_result"
    }
   ],
   "source": [
    "post_id"
   ]
  },
  {
   "cell_type": "code",
   "execution_count": 8,
   "id": "3439028e-9cc4-4045-8449-b3b69d9014c9",
   "metadata": {},
   "outputs": [
    {
     "data": {
      "text/plain": [
       "{'_id': ObjectId('65a7154917bbfe26517fbcce'),\n",
       " 'author': 'Mike',\n",
       " 'text': 'My first blog post!',\n",
       " 'tags': ['mongodb', 'python', 'pymongo'],\n",
       " 'date': datetime.datetime(2024, 1, 16, 23, 46, 17, 58000)}"
      ]
     },
     "execution_count": 8,
     "metadata": {},
     "output_type": "execute_result"
    }
   ],
   "source": [
    "posts.find_one({\"_id\": post_id})"
   ]
  }
 ],
 "metadata": {
  "kernelspec": {
   "display_name": "Python 3 (ipykernel)",
   "language": "python",
   "name": "python3"
  },
  "language_info": {
   "codemirror_mode": {
    "name": "ipython",
    "version": 3
   },
   "file_extension": ".py",
   "mimetype": "text/x-python",
   "name": "python",
   "nbconvert_exporter": "python",
   "pygments_lexer": "ipython3",
   "version": "3.11.6"
  }
 },
 "nbformat": 4,
 "nbformat_minor": 5
}
