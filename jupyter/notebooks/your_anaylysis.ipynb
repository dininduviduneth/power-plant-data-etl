{
 "cells": [
  {
   "cell_type": "code",
   "execution_count": null,
   "metadata": {},
   "outputs": [],
   "source": [
    "import pandas as pd\n",
    "import pymongo\n",
    "from pymongo.errors import PyMongoError\n",
    "import os\n",
    "\n",
    "# Get the MongoDB connection details from environment variables\n",
    "mongo_host = os.environ.get('MONGO_HOST', 'localhost')\n",
    "mongo_port = int(os.environ.get('MONGO_PORT', 27017))\n",
    "mongo_username = os.environ.get('MONGO_USERNAME', 'root')\n",
    "mongo_password = os.environ.get('MONGO_PASSWORD', 'example')\n",
    "mongo_auth_source = os.environ.get('MONGO_AUTH_SOURCE', 'admin')\n",
    "\n",
    "# MongoDB connection string\n",
    "mongo_uri = f'mongodb://{mongo_username}:{mongo_password}@{mongo_host}:{mongo_port}/{mongo_auth_source}'\n",
    "\n",
    "# Connect to MongoDB\n",
    "client = pymongo.MongoClient(mongo_uri)"
   ]
  }
 ],
 "metadata": {
  "language_info": {
   "name": "python"
  }
 },
 "nbformat": 4,
 "nbformat_minor": 2
}
